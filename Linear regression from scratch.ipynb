{
 "cells": [
  {
   "cell_type": "markdown",
   "metadata": {},
   "source": [
    "# Linear Regression from Scratch\n",
    "\n",
    "\n",
    "The Simplest form of reg equation is y=m*x+b where y is estimated dependent value, x is independent variable,m is slope and b is bias or constant\n",
    "    \n",
    "\n",
    "\n",
    "    "
   ]
  },
  {
   "cell_type": "markdown",
   "metadata": {},
   "source": [
    "#### For Linear Regression we need to understand Loss function,optimization Algorithm(Gradient Descent)"
   ]
  },
  {
   "cell_type": "markdown",
   "metadata": {},
   "source": [
    "### Let's first create our loss function (Mean Squared Error )\n",
    "![alt text](https://miro.medium.com/max/868/1*1g7XNjpxE92xo-jKxS4uow.png)"
   ]
  },
  {
   "cell_type": "code",
   "execution_count": 12,
   "metadata": {},
   "outputs": [],
   "source": [
    "# loss/cost function\n",
    "def loss_function(m, b, x, y):\n",
    "    error = 0\n",
    "    for i in range(0,len(x)):\n",
    "        error += (y[i]-(m*x[i]+b))**2\n",
    "    return error/float(len(x))    "
   ]
  },
  {
   "cell_type": "markdown",
   "metadata": {},
   "source": [
    "### Next we need to use optimization Algorithm to find the optimal parameters that minimize the loss function (gradient_descent)\n",
    "#### parameters : slope(m) and constant(b)\n",
    "\n",
    "![alt text](https://i0.wp.com/codergirlai.com/wp-content/uploads/2022/06/linear_regression_gradient1.png?resize=596%2C316&ssl=1)\n",
    "\n",
    "![alt text](https://i0.wp.com/codergirlai.com/wp-content/uploads/2022/06/JObCF.png?resize=519%2C259&ssl=1)\n",
    "\n"
   ]
  },
  {
   "cell_type": "code",
   "execution_count": 4,
   "metadata": {},
   "outputs": [],
   "source": [
    "# Implementation of the gradient descent algorithm\n",
    "def gradient_descent(b, m, x, y, learning_rate, num_iterations):\n",
    "    N = float(len(x))\n",
    "    # repeat for num_iterations\n",
    "    for j in range(num_iterations): \n",
    "        b_gradient = 0\n",
    "        m_gradient = 0\n",
    "        for i in range(0, len(x)):\n",
    "            b_gradient += -(2/N) * (y[i] - ((m * x[i]) + b))\n",
    "            m_gradient += -(2/N) * x[i] * (y[i] - ((m * x[i]) + b))\n",
    "        b -= (learning_rate * b_gradient)\n",
    "        m -= (learning_rate * m_gradient)\n",
    "        # Every 100  iterations we print our error \n",
    "    return [b, m]"
   ]
  },
  {
   "cell_type": "code",
   "execution_count": 7,
   "metadata": {},
   "outputs": [
    {
     "data": {
      "text/plain": [
       "<matplotlib.collections.PathCollection at 0x24b004c4e20>"
      ]
     },
     "execution_count": 7,
     "metadata": {},
     "output_type": "execute_result"
    },
    {
     "data": {
      "image/png": "[encoded data removed]",
      "text/plain": [
       "<Figure size 432x288 with 1 Axes>"
      ]
     },
     "metadata": {
      "needs_background": "light"
     },
     "output_type": "display_data"
    }
   ],
   "source": [
    "import numpy as np\n",
    "import matplotlib.pyplot as plt\n",
    "\n",
    "# Let's create a some randon data using linspace\n",
    "x = np.linspace(0, 100, 50) # creates a range of 50 numbers evenly spaced between 0 and 100\n",
    "delta = np.random.uniform(-10, 10, x.size)\n",
    "y = 0.5*x + 3 + delta\n",
    "\n",
    "plt.scatter(x, y)"
   ]
  },
  {
   "cell_type": "code",
   "execution_count": 14,
   "metadata": {},
   "outputs": [
    {
     "name": "stdout",
     "output_type": "stream",
     "text": [
      "Initial MSE: 1069.7353268029851\n",
      "b: 0.1352975362896139\n",
      "m: 0.5523856779418667\n",
      "MSE: 34.60765125923983\n"
     ]
    }
   ],
   "source": [
    "# Defining our learning rate\n",
    "learning_rate = 0.0001\n",
    "\n",
    "# defining our initial values of b and m\n",
    "initial_b = 0\n",
    "initial_m = 0\n",
    "\n",
    "# Setting how many iterations we wish to run\n",
    "num_iterations= 1000\n",
    "\n",
    "print('Initial MSE:', loss_function(initial_m, initial_b, x, y))\n",
    "[b, m] = gradient_descent(initial_b, initial_m, x, y, learning_rate, num_iterations)\n",
    "print('b:', b)\n",
    "print('m:', m)\n",
    "print('MSE:', loss_function(m, b, x, y))"
   ]
  },
  {
   "cell_type": "code",
   "execution_count": 20,
   "metadata": {},
   "outputs": [
    {
     "data": {
      "text/plain": [
       "[<matplotlib.lines.Line2D at 0x24b19aa7640>]"
      ]
     },
     "execution_count": 20,
     "metadata": {},
     "output_type": "execute_result"
    },
    {
     "data": {
      "image/png": "[encoded data removed]",
      "text/plain": [
       "<Figure size 432x288 with 1 Axes>"
      ]
     },
     "metadata": {
      "needs_background": "light"
     },
     "output_type": "display_data"
    }
   ],
   "source": [
    "predictions = [(m * x[i]) + b for i in range(len(x))]\n",
    "plt.scatter(x, y)\n",
    "plt.plot(x, predictions, color='r')"
   ]
  },
  {
   "cell_type": "markdown",
   "metadata": {},
   "source": [
    "### Lets try with SK library"
   ]
  },
  {
   "cell_type": "code",
   "execution_count": 15,
   "metadata": {},
   "outputs": [],
   "source": [
    "from sklearn.linear_model import LinearRegression"
   ]
  },
  {
   "cell_type": "code",
   "execution_count": 16,
   "metadata": {},
   "outputs": [],
   "source": [
    "x = x.reshape((-1, 1))"
   ]
  },
  {
   "cell_type": "code",
   "execution_count": 17,
   "metadata": {},
   "outputs": [
    {
     "data": {
      "text/plain": [
       "LinearRegression()"
      ]
     },
     "execution_count": 17,
     "metadata": {},
     "output_type": "execute_result"
    }
   ],
   "source": [
    "lr = LinearRegression()\n",
    "lr.fit(x,y)\n"
   ]
  },
  {
   "cell_type": "code",
   "execution_count": 19,
   "metadata": {},
   "outputs": [
    {
     "name": "stdout",
     "output_type": "stream",
     "text": [
      "Y Intercept #b: 2.539380634019345\n",
      "Gradient #m: [0.51668596]\n"
     ]
    }
   ],
   "source": [
    "# Get our model paramters\n",
    "print('Y Intercept #b:', lr.intercept_) \n",
    "print('Gradient #m:', lr.coef_)"
   ]
  },
  {
   "cell_type": "code",
   "execution_count": 21,
   "metadata": {},
   "outputs": [],
   "source": [
    "y_pred = lr.predict(x)"
   ]
  },
  {
   "cell_type": "code",
   "execution_count": 22,
   "metadata": {},
   "outputs": [
    {
     "data": {
      "text/plain": [
       "[<matplotlib.lines.Line2D at 0x24b19eaa580>]"
      ]
     },
     "execution_count": 22,
     "metadata": {},
     "output_type": "execute_result"
    },
    {
     "data": {
      "image/png": "[encoded data removed]",
      "text/plain": [
       "<Figure size 432x288 with 1 Axes>"
      ]
     },
     "metadata": {
      "needs_background": "light"
     },
     "output_type": "display_data"
    }
   ],
   "source": [
    "plt.scatter(x, y)\n",
    "plt.plot(x, y_pred, color='r')"
   ]
  },
  {
   "cell_type": "code",
   "execution_count": 23,
   "metadata": {},
   "outputs": [
    {
     "name": "stdout",
     "output_type": "stream",
     "text": [
      "Mean squared error: 33.12\n"
     ]
    }
   ],
   "source": [
    "from sklearn.metrics import mean_squared_error \n",
    "\n",
    "print(\"Mean squared error: %.2f\" % mean_squared_error(y, y_pred))"
   ]
  },
  {
   "cell_type": "code",
   "execution_count": null,
   "metadata": {},
   "outputs": [],
   "source": []
  }
 ],
 "metadata": {
  "kernelspec": {
   "display_name": "Python 3",
   "language": "python",
   "name": "python3"
  },
  "language_info": {
   "codemirror_mode": {
    "name": "ipython",
    "version": 3
   },
   "file_extension": ".py",
   "mimetype": "text/x-python",
   "name": "python",
   "nbconvert_exporter": "python",
   "pygments_lexer": "ipython3",
   "version": "3.9.0"
  }
 },
 "nbformat": 4,
 "nbformat_minor": 4
}
